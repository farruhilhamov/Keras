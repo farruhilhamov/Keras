{
 "cells": [
  {
   "cell_type": "markdown",
   "metadata": {},
   "source": [
    "# Вариационный Автоэнкодер"
   ]
  },
  {
   "cell_type": "code",
   "execution_count": 1,
   "metadata": {},
   "outputs": [],
   "source": [
    "import os \n",
    "import numpy as np\n",
    "import matplotlib.pyplot as plt\n",
    "from tensorflow import keras\n",
    "from tensorflow.keras.datasets import mnist # библиотека MNIST\n",
    "from tensorflow.keras.layers import Dense, Input,Flatten,Reshape"
   ]
  },
  {
   "cell_type": "code",
   "execution_count": 2,
   "metadata": {},
   "outputs": [],
   "source": [
    "(x_train,y_train),(x_test,y_test) = mnist.load_data()\n",
    "#стандартизация входных данных\n",
    "x_train = x_train/255 # 0-1\n",
    "x_test = x_test/255\n",
    "\n",
    "x_train = np.reshape(x_train,(len(x_train),28,28,1))\n",
    "x_test = np.reshape(x_test,(len(x_test),28,28,1))"
   ]
  },
  {
   "cell_type": "code",
   "execution_count": 3,
   "metadata": {},
   "outputs": [],
   "source": [
    "input_img = Input((28,28,1)) # изображение будет 28 на 28 пикселей в градациях серого\n",
    "x = Flatten()(input_img) # вытягиваем в один вектор в один массив\n",
    "x = Dense(128,activation='relu')(x)\n",
    "x = Dense(64,activation='relu')(x)\n",
    "encoded = Dense(2,activation='linear')(x)\n",
    "\n",
    "input_enc = Input(shape=(2,))\n",
    "d = Dense(64,activation='relu')(input_enc)\n",
    "d = Dense(28*28,activation='sigmoid')(d) # выдаёт данные от нюля до единицы\n",
    "decoded = Reshape((28,28,1))(d)\n",
    "\n",
    "encoder = keras.Model(input_img,encoded,name='encoder')\n",
    "decoder = keras.Model(input_enc,decoded,name='decoder')\n",
    "autoencoder = keras.Model(input_img,decoder(encoder(input_img)),name=\"autoencoder\")\n",
    "autoencoder.compile(optimizer='adam',loss='mean_squared_error')"
   ]
  },
  {
   "cell_type": "code",
   "execution_count": 5,
   "metadata": {},
   "outputs": [
    {
     "name": "stdout",
     "output_type": "stream",
     "text": [
      "Epoch 1/10\n",
      "938/938 [==============================] - 4s 3ms/step - loss: 0.0595\n",
      "Epoch 2/10\n",
      "938/938 [==============================] - 2s 2ms/step - loss: 0.0493\n",
      "Epoch 3/10\n",
      "938/938 [==============================] - 2s 2ms/step - loss: 0.0468\n",
      "Epoch 4/10\n",
      "938/938 [==============================] - 2s 2ms/step - loss: 0.0453\n",
      "Epoch 5/10\n",
      "938/938 [==============================] - 2s 2ms/step - loss: 0.0444\n",
      "Epoch 6/10\n",
      "938/938 [==============================] - 3s 3ms/step - loss: 0.0437\n",
      "Epoch 7/10\n",
      "938/938 [==============================] - 2s 2ms/step - loss: 0.0431\n",
      "Epoch 8/10\n",
      "938/938 [==============================] - 2s 3ms/step - loss: 0.0427\n",
      "Epoch 9/10\n",
      "938/938 [==============================] - 2s 3ms/step - loss: 0.0423\n",
      "Epoch 10/10\n",
      "938/938 [==============================] - 2s 2ms/step - loss: 0.0420\n"
     ]
    },
    {
     "data": {
      "text/plain": [
       "<tensorflow.python.keras.callbacks.History at 0x21377e17b80>"
      ]
     },
     "execution_count": 5,
     "metadata": {},
     "output_type": "execute_result"
    }
   ],
   "source": [
    "autoencoder.fit(x_train,x_train,epochs=10,batch_size=64,shuffle=True)"
   ]
  },
  {
   "cell_type": "code",
   "execution_count": 6,
   "metadata": {},
   "outputs": [],
   "source": [
    "h = encoder.predict(x_test)"
   ]
  },
  {
   "cell_type": "code",
   "execution_count": 7,
   "metadata": {},
   "outputs": [
    {
     "data": {
      "image/png": "[encoded data removed]",
      "text/plain": [
       "<Figure size 432x288 with 1 Axes>"
      ]
     },
     "metadata": {
      "needs_background": "light"
     },
     "output_type": "display_data"
    }
   ],
   "source": [
    "a = plt.scatter(h[:,0],h[:,1])"
   ]
  },
  {
   "cell_type": "code",
   "execution_count": 26,
   "metadata": {},
   "outputs": [
    {
     "data": {
      "text/plain": [
       "<matplotlib.image.AxesImage at 0x2136dafe8b0>"
      ]
     },
     "execution_count": 26,
     "metadata": {},
     "output_type": "execute_result"
    },
    {
     "data": {
      "image/png": "[encoded data removed]",
      "text/plain": [
       "<Figure size 432x288 with 1 Axes>"
      ]
     },
     "metadata": {
      "needs_background": "light"
     },
     "output_type": "display_data"
    }
   ],
   "source": [
    "img = decoder.predict(np.expand_dims([1,1],axis = 0)) #можно менять [1,1]\n",
    "plt.imshow(img.squeeze(),cmap='gray')"
   ]
  },
  {
   "cell_type": "code",
   "execution_count": null,
   "metadata": {},
   "outputs": [],
   "source": []
  }
 ],
 "metadata": {
  "kernelspec": {
   "display_name": "Python 3",
   "language": "python",
   "name": "python3"
  },
  "language_info": {
   "codemirror_mode": {
    "name": "ipython",
    "version": 3
   },
   "file_extension": ".py",
   "mimetype": "text/x-python",
   "name": "python",
   "nbconvert_exporter": "python",
   "pygments_lexer": "ipython3",
   "version": "3.8.5"
  }
 },
 "nbformat": 4,
 "nbformat_minor": 4
}
