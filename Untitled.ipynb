{
 "cells": [
  {
   "cell_type": "code",
   "execution_count": 1,
   "metadata": {},
   "outputs": [],
   "source": [
    "from tensorflow import keras\n",
    "from tensorflow.keras.layers import Dense, Flatten,Conv2D,MaxPooling2D\n",
    "import numpy as np\n",
    "import matplotlib.pyplot as plt\n",
    "from tensorflow.keras.datasets import mnist\n",
    "%matplotlib inline"
   ]
  },
  {
   "cell_type": "code",
   "execution_count": 2,
   "metadata": {},
   "outputs": [],
   "source": [
    "c = np.array([-40,-10,0,8,15,22,38])\n",
    "f = np.array([-40,14,32,46,59,72,100])"
   ]
  },
  {
   "cell_type": "code",
   "execution_count": 35,
   "metadata": {},
   "outputs": [],
   "source": [
    "model = keras.Sequential()\n",
    "model.add(Dense(units=1,input_shape=(1,),activation='linear'))\n",
    "\n",
    "model.compile(loss='mean_squared_error',optimizer=keras.optimizers.Adam(0.1))\n",
    "\n",
    "history = model.fit(c,f,epochs=500,verbose=0)\n"
   ]
  },
  {
   "cell_type": "code",
   "execution_count": 30,
   "metadata": {},
   "outputs": [
    {
     "data": {
      "image/png": "[encoded data removed]",
      "text/plain": [
       "<Figure size 432x288 with 1 Axes>"
      ]
     },
     "metadata": {
      "needs_background": "light"
     },
     "output_type": "display_data"
    },
    {
     "data": {
      "text/plain": [
       "{'loss': [1804.6552734375,\n",
       "  1667.2530517578125,\n",
       "  1541.6162109375,\n",
       "  1427.9022216796875,\n",
       "  1326.1923828125,\n",
       "  1236.4705810546875,\n",
       "  1158.6072998046875,\n",
       "  1092.3427734375,\n",
       "  1037.2669677734375,\n",
       "  992.8069458007812,\n",
       "  958.2152709960938,\n",
       "  932.5714721679688,\n",
       "  914.7916870117188,\n",
       "  903.6544189453125,\n",
       "  897.841796875,\n",
       "  895.9935913085938,\n",
       "  896.7719116210938,\n",
       "  898.927734375,\n",
       "  901.3628540039062,\n",
       "  903.1766967773438,\n",
       "  903.6965942382812,\n",
       "  902.4857788085938,\n",
       "  899.3336181640625,\n",
       "  894.2293090820312,\n",
       "  887.3253784179688,\n",
       "  878.896484375,\n",
       "  869.296875,\n",
       "  858.9197387695312,\n",
       "  848.1622924804688,\n",
       "  837.3961181640625,\n",
       "  826.9435424804688,\n",
       "  817.0628051757812,\n",
       "  807.9370727539062,\n",
       "  799.6730346679688,\n",
       "  792.3023071289062,\n",
       "  785.7894287109375,\n",
       "  780.0438232421875,\n",
       "  774.9339599609375,\n",
       "  770.3031005859375,\n",
       "  765.9853515625,\n",
       "  761.8206176757812,\n",
       "  757.6669921875,\n",
       "  753.4093017578125,\n",
       "  748.9658203125,\n",
       "  744.2891845703125,\n",
       "  739.3660888671875,\n",
       "  734.2119140625,\n",
       "  728.8661499023438,\n",
       "  723.3832397460938,\n",
       "  717.8261108398438,\n",
       "  712.2583618164062,\n",
       "  706.73828125,\n",
       "  701.3133544921875,\n",
       "  696.0186157226562,\n",
       "  690.873046875,\n",
       "  685.8821411132812,\n",
       "  681.0377197265625,\n",
       "  676.3218383789062,\n",
       "  671.7095336914062,\n",
       "  667.1725463867188,\n",
       "  662.6824951171875,\n",
       "  658.2139892578125,\n",
       "  653.7465209960938,\n",
       "  649.26611328125,\n",
       "  644.7653198242188,\n",
       "  640.2432861328125,\n",
       "  635.7044067382812,\n",
       "  631.1570434570312,\n",
       "  626.6121826171875,\n",
       "  622.0816040039062,\n",
       "  617.5760498046875,\n",
       "  613.1047973632812,\n",
       "  608.6741943359375,\n",
       "  604.2880249023438,\n",
       "  599.9469604492188,\n",
       "  595.6489868164062,\n",
       "  591.3906860351562,\n",
       "  587.1668701171875,\n",
       "  582.9721069335938,\n",
       "  578.8014526367188,\n",
       "  574.6506958007812,\n",
       "  570.5166015625,\n",
       "  566.3974609375,\n",
       "  562.2929077148438,\n",
       "  558.2036743164062,\n",
       "  554.1310424804688,\n",
       "  550.0775146484375,\n",
       "  546.0447387695312,\n",
       "  542.0350952148438,\n",
       "  538.0501708984375,\n",
       "  534.0908813476562,\n",
       "  530.1576538085938,\n",
       "  526.2503051757812,\n",
       "  522.3684692382812,\n",
       "  518.5108642578125,\n",
       "  514.6765747070312,\n",
       "  510.8644714355469,\n",
       "  507.0734558105469,\n",
       "  503.3030700683594,\n",
       "  499.5526428222656,\n",
       "  495.8221130371094,\n",
       "  492.1114807128906,\n",
       "  488.421142578125,\n",
       "  484.7511901855469,\n",
       "  481.1023864746094,\n",
       "  477.474853515625,\n",
       "  473.8688659667969,\n",
       "  470.28460693359375,\n",
       "  466.721923828125,\n",
       "  463.1808776855469,\n",
       "  459.6611328125,\n",
       "  456.1625671386719,\n",
       "  452.6847229003906,\n",
       "  449.2273864746094,\n",
       "  445.790283203125,\n",
       "  442.3733825683594,\n",
       "  438.97650146484375,\n",
       "  435.59954833984375,\n",
       "  432.24261474609375,\n",
       "  428.9054870605469,\n",
       "  425.58843994140625,\n",
       "  422.2913513183594,\n",
       "  419.01434326171875,\n",
       "  415.7571716308594,\n",
       "  412.5199279785156,\n",
       "  409.3025817871094,\n",
       "  406.10491943359375,\n",
       "  402.9267578125,\n",
       "  399.76812744140625,\n",
       "  396.62890625,\n",
       "  393.50885009765625,\n",
       "  390.40789794921875,\n",
       "  387.326171875,\n",
       "  384.2633361816406,\n",
       "  381.219482421875,\n",
       "  378.1945495605469,\n",
       "  375.1884460449219,\n",
       "  372.2010803222656,\n",
       "  369.23248291015625,\n",
       "  366.28253173828125,\n",
       "  363.35113525390625,\n",
       "  360.4382629394531,\n",
       "  357.54388427734375,\n",
       "  354.66778564453125,\n",
       "  351.8099060058594,\n",
       "  348.9702453613281,\n",
       "  346.148681640625,\n",
       "  343.34515380859375,\n",
       "  340.5594787597656,\n",
       "  337.791748046875,\n",
       "  335.041748046875,\n",
       "  332.3095397949219,\n",
       "  329.5949401855469,\n",
       "  326.89788818359375,\n",
       "  324.2184143066406,\n",
       "  321.556396484375,\n",
       "  318.9117736816406,\n",
       "  316.2843933105469,\n",
       "  313.67425537109375,\n",
       "  311.0812072753906,\n",
       "  308.5051574707031,\n",
       "  305.94622802734375,\n",
       "  303.4041442871094,\n",
       "  300.87890625,\n",
       "  298.3703308105469,\n",
       "  295.8785095214844,\n",
       "  293.4033508300781,\n",
       "  290.94464111328125,\n",
       "  288.50244140625,\n",
       "  286.0766906738281,\n",
       "  283.66717529296875,\n",
       "  281.27392578125,\n",
       "  278.8968811035156,\n",
       "  276.535888671875,\n",
       "  274.1909484863281,\n",
       "  271.86199951171875,\n",
       "  269.5487976074219,\n",
       "  267.2514343261719,\n",
       "  264.9698181152344,\n",
       "  262.70391845703125,\n",
       "  260.45355224609375,\n",
       "  258.21868896484375,\n",
       "  255.99923706054688,\n",
       "  253.79513549804688,\n",
       "  251.6063995361328,\n",
       "  249.43284606933594,\n",
       "  247.2744140625,\n",
       "  245.1310577392578,\n",
       "  243.002685546875,\n",
       "  240.88925170898438,\n",
       "  238.79074096679688,\n",
       "  236.7069091796875,\n",
       "  234.63790893554688,\n",
       "  232.5834503173828,\n",
       "  230.54359436035156,\n",
       "  228.5182342529297,\n",
       "  226.50723266601562,\n",
       "  224.51065063476562,\n",
       "  222.52828979492188,\n",
       "  220.56019592285156,\n",
       "  218.606201171875,\n",
       "  216.66629028320312,\n",
       "  214.74038696289062,\n",
       "  212.82839965820312,\n",
       "  210.93020629882812,\n",
       "  209.0458984375,\n",
       "  207.1752166748047,\n",
       "  205.31822204589844,\n",
       "  203.47474670410156,\n",
       "  201.64480590820312,\n",
       "  199.8282928466797,\n",
       "  198.02516174316406,\n",
       "  196.2352294921875,\n",
       "  194.45863342285156,\n",
       "  192.6951446533203,\n",
       "  190.94471740722656,\n",
       "  189.2073211669922,\n",
       "  187.48289489746094,\n",
       "  185.7712860107422,\n",
       "  184.072509765625,\n",
       "  182.38648986816406,\n",
       "  180.7131805419922,\n",
       "  179.0523681640625,\n",
       "  177.40415954589844,\n",
       "  175.7683868408203,\n",
       "  174.14498901367188,\n",
       "  172.533935546875,\n",
       "  170.93516540527344,\n",
       "  169.3485870361328,\n",
       "  167.7740936279297,\n",
       "  166.2117462158203,\n",
       "  164.6613006591797,\n",
       "  163.12283325195312,\n",
       "  161.59620666503906,\n",
       "  160.0813751220703,\n",
       "  158.57826232910156,\n",
       "  157.0868377685547,\n",
       "  155.60694885253906,\n",
       "  154.13864135742188,\n",
       "  152.68174743652344,\n",
       "  151.23629760742188,\n",
       "  149.8021240234375,\n",
       "  148.37930297851562,\n",
       "  146.96755981445312,\n",
       "  145.5670623779297,\n",
       "  144.17758178710938,\n",
       "  142.7991180419922,\n",
       "  141.43154907226562,\n",
       "  140.07493591308594,\n",
       "  138.7290802001953,\n",
       "  137.39401245117188,\n",
       "  136.0696563720703,\n",
       "  134.75587463378906,\n",
       "  133.45263671875,\n",
       "  132.15992736816406,\n",
       "  130.87765502929688,\n",
       "  129.6057586669922,\n",
       "  128.34420776367188,\n",
       "  127.09285736083984,\n",
       "  125.85167694091797,\n",
       "  124.62066650390625,\n",
       "  123.3996810913086,\n",
       "  122.18873596191406,\n",
       "  120.98768615722656,\n",
       "  119.79650115966797,\n",
       "  118.61518096923828,\n",
       "  117.44358825683594,\n",
       "  116.28169250488281,\n",
       "  115.12940979003906,\n",
       "  113.98674011230469,\n",
       "  112.85352325439453,\n",
       "  111.72978973388672,\n",
       "  110.61544036865234,\n",
       "  109.51049041748047,\n",
       "  108.41475677490234,\n",
       "  107.32829284667969,\n",
       "  106.25096893310547,\n",
       "  105.1827392578125,\n",
       "  104.12351989746094,\n",
       "  103.07325744628906,\n",
       "  102.03199768066406,\n",
       "  100.99955749511719,\n",
       "  99.9759521484375,\n",
       "  98.96109771728516,\n",
       "  97.95490264892578,\n",
       "  96.95738220214844,\n",
       "  95.96842193603516,\n",
       "  94.98796844482422,\n",
       "  94.01605987548828,\n",
       "  93.052490234375,\n",
       "  92.09734344482422,\n",
       "  91.15045928955078,\n",
       "  90.2117691040039,\n",
       "  89.28133392333984,\n",
       "  88.35899353027344,\n",
       "  87.44474792480469,\n",
       "  86.53857421875,\n",
       "  85.64031219482422,\n",
       "  84.74998474121094,\n",
       "  83.86751556396484,\n",
       "  82.9928970336914,\n",
       "  82.1259765625,\n",
       "  81.26673889160156,\n",
       "  80.41519927978516,\n",
       "  79.57125091552734,\n",
       "  78.73479461669922,\n",
       "  77.9058609008789,\n",
       "  77.0843734741211,\n",
       "  76.27024841308594,\n",
       "  75.4635009765625,\n",
       "  74.6639633178711,\n",
       "  73.87175750732422,\n",
       "  73.08663177490234,\n",
       "  72.3086929321289,\n",
       "  71.53780364990234,\n",
       "  70.77396392822266,\n",
       "  70.01705169677734,\n",
       "  69.26710510253906,\n",
       "  68.5240478515625,\n",
       "  67.7878189086914,\n",
       "  67.0583724975586,\n",
       "  66.33558654785156,\n",
       "  65.61957550048828,\n",
       "  64.91012573242188,\n",
       "  64.20726013183594,\n",
       "  63.510963439941406,\n",
       "  62.82111358642578,\n",
       "  62.13772964477539,\n",
       "  61.46076202392578,\n",
       "  60.79010009765625,\n",
       "  60.1257438659668,\n",
       "  59.46761703491211,\n",
       "  58.81571578979492,\n",
       "  58.16995620727539,\n",
       "  57.530338287353516,\n",
       "  56.8967399597168,\n",
       "  56.26919937133789,\n",
       "  55.64760971069336,\n",
       "  55.031944274902344,\n",
       "  54.42218780517578,\n",
       "  53.81822967529297,\n",
       "  53.22003936767578,\n",
       "  52.62763214111328,\n",
       "  52.04092788696289,\n",
       "  51.459896087646484,\n",
       "  50.88448715209961,\n",
       "  50.314613342285156,\n",
       "  49.75026321411133,\n",
       "  49.19140625,\n",
       "  48.63798141479492,\n",
       "  48.08998489379883,\n",
       "  47.54729461669922,\n",
       "  47.00995635986328,\n",
       "  46.477874755859375,\n",
       "  45.951019287109375,\n",
       "  45.42937088012695,\n",
       "  44.91284942626953,\n",
       "  44.40143966674805,\n",
       "  43.895103454589844,\n",
       "  43.39379119873047,\n",
       "  42.89745330810547,\n",
       "  42.40604782104492,\n",
       "  41.91958236694336,\n",
       "  41.43796157836914,\n",
       "  40.96114730834961,\n",
       "  40.489105224609375,\n",
       "  40.0218505859375,\n",
       "  39.559288024902344,\n",
       "  39.10137176513672,\n",
       "  38.64810562133789,\n",
       "  38.1994514465332,\n",
       "  37.755313873291016,\n",
       "  37.3156852722168,\n",
       "  36.880558013916016,\n",
       "  36.44987106323242,\n",
       "  36.02355194091797,\n",
       "  35.60166549682617,\n",
       "  35.184051513671875,\n",
       "  34.77073287963867,\n",
       "  34.36170196533203,\n",
       "  33.956878662109375,\n",
       "  33.55624008178711,\n",
       "  33.15974044799805,\n",
       "  32.76735305786133,\n",
       "  32.379066467285156,\n",
       "  31.99476432800293,\n",
       "  31.61452865600586,\n",
       "  31.238248825073242,\n",
       "  30.865917205810547,\n",
       "  30.497488021850586,\n",
       "  30.132909774780273,\n",
       "  29.772159576416016,\n",
       "  29.415233612060547,\n",
       "  29.06209945678711,\n",
       "  28.71268653869629,\n",
       "  28.366958618164062,\n",
       "  28.024906158447266,\n",
       "  27.686487197875977,\n",
       "  27.351701736450195,\n",
       "  27.020456314086914,\n",
       "  26.69277000427246,\n",
       "  26.368595123291016,\n",
       "  26.047914505004883,\n",
       "  25.730669021606445,\n",
       "  25.416851043701172,\n",
       "  25.10643196105957,\n",
       "  24.79935073852539,\n",
       "  24.49560546875,\n",
       "  24.195125579833984,\n",
       "  23.897930145263672,\n",
       "  23.60397720336914,\n",
       "  23.313232421875,\n",
       "  23.025659561157227,\n",
       "  22.74122428894043,\n",
       "  22.45992088317871,\n",
       "  22.18173599243164,\n",
       "  21.90656852722168,\n",
       "  21.634469985961914,\n",
       "  21.3653507232666,\n",
       "  21.099191665649414,\n",
       "  20.836000442504883,\n",
       "  20.575719833374023,\n",
       "  20.318368911743164,\n",
       "  20.063859939575195,\n",
       "  19.812198638916016,\n",
       "  19.56334114074707,\n",
       "  19.3172664642334,\n",
       "  19.073978424072266,\n",
       "  18.833404541015625,\n",
       "  18.595523834228516,\n",
       "  18.360342025756836,\n",
       "  18.12782859802246,\n",
       "  17.897932052612305,\n",
       "  17.67062759399414,\n",
       "  17.445926666259766,\n",
       "  17.223758697509766,\n",
       "  17.004131317138672,\n",
       "  16.787023544311523,\n",
       "  16.572378158569336,\n",
       "  16.36018943786621,\n",
       "  16.15043067932129,\n",
       "  15.94310188293457,\n",
       "  15.738167762756348,\n",
       "  15.535553932189941,\n",
       "  15.33531665802002,\n",
       "  15.137385368347168,\n",
       "  14.941731452941895,\n",
       "  14.748359680175781,\n",
       "  14.557235717773438,\n",
       "  14.368338584899902,\n",
       "  14.181654930114746,\n",
       "  13.997133255004883,\n",
       "  13.814778327941895,\n",
       "  13.634575843811035,\n",
       "  13.456477165222168,\n",
       "  13.280473709106445,\n",
       "  13.106541633605957,\n",
       "  12.93465518951416,\n",
       "  12.764817237854004,\n",
       "  12.59697437286377,\n",
       "  12.431134223937988,\n",
       "  12.267247200012207,\n",
       "  12.105320930480957,\n",
       "  11.945328712463379,\n",
       "  11.787248611450195,\n",
       "  11.631054878234863,\n",
       "  11.47672176361084,\n",
       "  11.324251174926758,\n",
       "  11.173598289489746,\n",
       "  11.0247802734375,\n",
       "  10.877737045288086,\n",
       "  10.732487678527832,\n",
       "  10.588983535766602,\n",
       "  10.447212219238281,\n",
       "  10.30716609954834,\n",
       "  10.1688232421875,\n",
       "  10.032170295715332,\n",
       "  9.897177696228027,\n",
       "  9.76384162902832,\n",
       "  9.63211727142334,\n",
       "  9.502020835876465,\n",
       "  9.373528480529785,\n",
       "  9.246590614318848,\n",
       "  9.12123966217041,\n",
       "  8.997418403625488,\n",
       "  8.875123977661133,\n",
       "  8.754368782043457,\n",
       "  8.63508415222168,\n",
       "  8.517287254333496,\n",
       "  8.400959968566895,\n",
       "  8.286077499389648,\n",
       "  8.17261791229248,\n",
       "  8.060568809509277,\n",
       "  7.949943542480469,\n",
       "  7.840687274932861,\n",
       "  7.7328009605407715,\n",
       "  7.626295566558838,\n",
       "  7.521105766296387,\n",
       "  7.417252540588379,\n",
       "  7.314708232879639]}"
      ]
     },
     "execution_count": 30,
     "metadata": {},
     "output_type": "execute_result"
    }
   ],
   "source": [
    "plt.plot(history.history['loss'])\n",
    "plt.grid(True)\n",
    "plt.show()"
   ]
  },
  {
   "cell_type": "code",
   "execution_count": 5,
   "metadata": {},
   "outputs": [
    {
     "name": "stdout",
     "output_type": "stream",
     "text": [
      "[[11.012703]]\n"
     ]
    }
   ],
   "source": [
    "print(model.predict([-10]))"
   ]
  },
  {
   "cell_type": "code",
   "execution_count": 6,
   "metadata": {},
   "outputs": [
    {
     "name": "stdout",
     "output_type": "stream",
     "text": [
      "Model: \"sequential\"\n",
      "_________________________________________________________________\n",
      "Layer (type)                 Output Shape              Param #   \n",
      "=================================================================\n",
      "dense (Dense)                (None, 1)                 2         \n",
      "=================================================================\n",
      "Total params: 2\n",
      "Trainable params: 2\n",
      "Non-trainable params: 0\n",
      "_________________________________________________________________\n",
      "None\n"
     ]
    }
   ],
   "source": [
    "print(model.summary())"
   ]
  },
  {
   "cell_type": "code",
   "execution_count": 7,
   "metadata": {},
   "outputs": [],
   "source": [
    "model = keras.Sequential(\n",
    "[\n",
    "    Flatten(input_shape=(28,28,1)),\n",
    "    Dense(units=128,input_shape=(1,),activation='linear'),\n",
    "    Dense(10,activation='softmax')\n",
    "])"
   ]
  },
  {
   "cell_type": "code",
   "execution_count": 8,
   "metadata": {},
   "outputs": [
    {
     "name": "stdout",
     "output_type": "stream",
     "text": [
      "Model: \"sequential_1\"\n",
      "_________________________________________________________________\n",
      "Layer (type)                 Output Shape              Param #   \n",
      "=================================================================\n",
      "flatten (Flatten)            (None, 784)               0         \n",
      "_________________________________________________________________\n",
      "dense_1 (Dense)              (None, 128)               100480    \n",
      "_________________________________________________________________\n",
      "dense_2 (Dense)              (None, 10)                1290      \n",
      "=================================================================\n",
      "Total params: 101,770\n",
      "Trainable params: 101,770\n",
      "Non-trainable params: 0\n",
      "_________________________________________________________________\n",
      "None\n"
     ]
    }
   ],
   "source": [
    "print(model.summary())"
   ]
  },
  {
   "cell_type": "code",
   "execution_count": 9,
   "metadata": {},
   "outputs": [],
   "source": [
    "(x_train,y_train),(x_test,y_test) = mnist.load_data()"
   ]
  },
  {
   "cell_type": "code",
   "execution_count": 10,
   "metadata": {},
   "outputs": [],
   "source": [
    "x_train = x_train/255\n",
    "x_test = x_test/255"
   ]
  },
  {
   "cell_type": "code",
   "execution_count": 11,
   "metadata": {},
   "outputs": [],
   "source": [
    "y_train_cat = keras.utils.to_categorical(y_train,10)\n",
    "y_test_cat = keras.utils.to_categorical(y_test,10)"
   ]
  },
  {
   "cell_type": "code",
   "execution_count": 12,
   "metadata": {},
   "outputs": [],
   "source": [
    "model.compile(optimizer='adam',loss='categorical_crossentropy',metrics=['accuracy'])"
   ]
  },
  {
   "cell_type": "code",
   "execution_count": 13,
   "metadata": {},
   "outputs": [
    {
     "name": "stdout",
     "output_type": "stream",
     "text": [
      "Epoch 1/5\n",
      "1500/1500 [==============================] - 3s 2ms/step - loss: 0.3757 - accuracy: 0.8935 - val_loss: 0.2922 - val_accuracy: 0.9180\n",
      "Epoch 2/5\n",
      "1500/1500 [==============================] - 2s 2ms/step - loss: 0.3074 - accuracy: 0.9146 - val_loss: 0.3004 - val_accuracy: 0.9158\n",
      "Epoch 3/5\n",
      "1500/1500 [==============================] - 2s 1ms/step - loss: 0.2923 - accuracy: 0.9183 - val_loss: 0.2734 - val_accuracy: 0.9246\n",
      "Epoch 4/5\n",
      "1500/1500 [==============================] - 2s 1ms/step - loss: 0.2879 - accuracy: 0.9187 - val_loss: 0.2856 - val_accuracy: 0.9215\n",
      "Epoch 5/5\n",
      "1500/1500 [==============================] - 2s 1ms/step - loss: 0.2809 - accuracy: 0.9215 - val_loss: 0.2792 - val_accuracy: 0.9248\n"
     ]
    },
    {
     "data": {
      "text/plain": [
       "<tensorflow.python.keras.callbacks.History at 0x2911857c550>"
      ]
     },
     "execution_count": 13,
     "metadata": {},
     "output_type": "execute_result"
    }
   ],
   "source": [
    "model.fit(x_train,y_train_cat,batch_size=32,epochs=5,validation_split=0.2)"
   ]
  },
  {
   "cell_type": "code",
   "execution_count": 14,
   "metadata": {},
   "outputs": [
    {
     "name": "stdout",
     "output_type": "stream",
     "text": [
      "313/313 [==============================] - 1s 1ms/step - loss: 0.2870 - accuracy: 0.9214\n"
     ]
    },
    {
     "data": {
      "text/plain": [
       "[0.28702616691589355, 0.9214000105857849]"
      ]
     },
     "execution_count": 14,
     "metadata": {},
     "output_type": "execute_result"
    }
   ],
   "source": [
    "model.evaluate(x_test,y_test_cat)"
   ]
  },
  {
   "cell_type": "code",
   "execution_count": 15,
   "metadata": {},
   "outputs": [
    {
     "name": "stdout",
     "output_type": "stream",
     "text": [
      "[[1.6295497e-06 5.1414130e-13 2.3243060e-06 2.0762736e-03 6.9724621e-08\n",
      "  2.3531243e-06 6.7206128e-12 9.9778205e-01 4.7607095e-06 1.3047767e-04]]\n",
      "распознанная цифра: 7\n"
     ]
    },
    {
     "data": {
      "image/png": "[encoded data removed]",
      "text/plain": [
       "<Figure size 432x288 with 1 Axes>"
      ]
     },
     "metadata": {
      "needs_background": "light"
     },
     "output_type": "display_data"
    }
   ],
   "source": [
    "n=0\n",
    "x = np.expand_dims(x_test[n],axis=0)\n",
    "res = model.predict(x)\n",
    "print(res)\n",
    "print(f'распознанная цифра: {np.argmax(res)}')\n",
    "plt.imshow(x_test[n],cmap=plt.cm.binary)\n",
    "plt.show()"
   ]
  },
  {
   "cell_type": "code",
   "execution_count": 16,
   "metadata": {},
   "outputs": [
    {
     "name": "stdout",
     "output_type": "stream",
     "text": [
      "(10000,)\n",
      "[7 2 1 0 4 1 4 9 6 9 0 6 9 0 1 5 9 7 3 4]\n",
      "[7 2 1 0 4 1 4 9 5 9 0 6 9 0 1 5 9 7 3 4]\n"
     ]
    }
   ],
   "source": [
    "pred = model.predict(x_test)\n",
    "pred = np.argmax(pred,axis=1)\n",
    "\n",
    "print(pred.shape)\n",
    "print(pred[:20])\n",
    "print(y_test[:20])"
   ]
  },
  {
   "cell_type": "code",
   "execution_count": 17,
   "metadata": {},
   "outputs": [
    {
     "name": "stdout",
     "output_type": "stream",
     "text": [
      "[ True  True  True  True  True  True  True  True False  True]\n",
      "(786,)\n"
     ]
    }
   ],
   "source": [
    "mask = pred == y_test\n",
    "print(mask[:10])\n",
    "\n",
    "x_false=x_test[~mask]\n",
    "p_false=pred[~mask]\n",
    "\n",
    "print(p_false.shape)"
   ]
  },
  {
   "cell_type": "code",
   "execution_count": 18,
   "metadata": {
    "scrolled": true
   },
   "outputs": [
    {
     "name": "stdout",
     "output_type": "stream",
     "text": [
      "Значение сети: 6\n"
     ]
    },
    {
     "data": {
      "image/png": "[encoded data removed]",
      "text/plain": [
       "<Figure size 432x288 with 1 Axes>"
      ]
     },
     "metadata": {
      "needs_background": "light"
     },
     "output_type": "display_data"
    },
    {
     "name": "stdout",
     "output_type": "stream",
     "text": [
      "Значение сети: 6\n"
     ]
    },
    {
     "data": {
      "image/png": "[encoded data removed]",
      "text/plain": [
       "<Figure size 432x288 with 1 Axes>"
      ]
     },
     "metadata": {
      "needs_background": "light"
     },
     "output_type": "display_data"
    },
    {
     "name": "stdout",
     "output_type": "stream",
     "text": [
      "Значение сети: 3\n"
     ]
    },
    {
     "data": {
      "image/png": "[encoded data removed]",
      "text/plain": [
       "<Figure size 432x288 with 1 Axes>"
      ]
     },
     "metadata": {
      "needs_background": "light"
     },
     "output_type": "display_data"
    },
    {
     "name": "stdout",
     "output_type": "stream",
     "text": [
      "Значение сети: 2\n"
     ]
    },
    {
     "data": {
      "image/png": "[encoded data removed]",
      "text/plain": [
       "<Figure size 432x288 with 1 Axes>"
      ]
     },
     "metadata": {
      "needs_background": "light"
     },
     "output_type": "display_data"
    },
    {
     "name": "stdout",
     "output_type": "stream",
     "text": [
      "Значение сети: 4\n"
     ]
    },
    {
     "data": {
      "image/png": "[encoded data removed]",
      "text/plain": [
       "<Figure size 432x288 with 1 Axes>"
      ]
     },
     "metadata": {
      "needs_background": "light"
     },
     "output_type": "display_data"
    }
   ],
   "source": [
    "for i in range(5):\n",
    "    print(\"Значение сети: \"+str(p_false[i]))\n",
    "    \n",
    "    plt.imshow(x_false[i],cmap=plt.cm.binary)\n",
    "    plt.show()"
   ]
  },
  {
   "cell_type": "code",
   "execution_count": 19,
   "metadata": {
    "scrolled": true
   },
   "outputs": [],
   "source": [
    "myOpt = keras.optimizers.SGD(learning_rate=0.1,momentum=0.0,nesterov=True)\n",
    "model.compile(optimizer=myOpt,loss='categorical_crossentropy',metrics=['accuracy'])"
   ]
  },
  {
   "cell_type": "code",
   "execution_count": 20,
   "metadata": {},
   "outputs": [],
   "source": [
    "from sklearn.model_selection import train_test_split"
   ]
  },
  {
   "cell_type": "code",
   "execution_count": 21,
   "metadata": {},
   "outputs": [],
   "source": [
    "x_train_split,x_val_split,y_train_split,y_val_split = train_test_split(x_train,y_train_cat,test_size=0.2)"
   ]
  },
  {
   "cell_type": "code",
   "execution_count": 22,
   "metadata": {},
   "outputs": [
    {
     "name": "stdout",
     "output_type": "stream",
     "text": [
      "Epoch 1/5\n",
      "1500/1500 [==============================] - 2s 1ms/step - loss: 0.2685 - accuracy: 0.9249 - val_loss: 0.2603 - val_accuracy: 0.9265\n",
      "Epoch 2/5\n",
      "1500/1500 [==============================] - 2s 1ms/step - loss: 0.2645 - accuracy: 0.9273 - val_loss: 0.2674 - val_accuracy: 0.9230\n",
      "Epoch 3/5\n",
      "1500/1500 [==============================] - 2s 1ms/step - loss: 0.2613 - accuracy: 0.9273 - val_loss: 0.2644 - val_accuracy: 0.9265\n",
      "Epoch 4/5\n",
      "1500/1500 [==============================] - 2s 1ms/step - loss: 0.2607 - accuracy: 0.9268 - val_loss: 0.2637 - val_accuracy: 0.9268\n",
      "Epoch 5/5\n",
      "1500/1500 [==============================] - 2s 1ms/step - loss: 0.2586 - accuracy: 0.9284 - val_loss: 0.2718 - val_accuracy: 0.9234\n"
     ]
    },
    {
     "data": {
      "text/plain": [
       "<tensorflow.python.keras.callbacks.History at 0x29117da7b80>"
      ]
     },
     "execution_count": 22,
     "metadata": {},
     "output_type": "execute_result"
    }
   ],
   "source": [
    "model.fit(x_train_split,y_train_split,batch_size=32,epochs=5,validation_data=(x_val_split,y_val_split))"
   ]
  },
  {
   "cell_type": "code",
   "execution_count": 24,
   "metadata": {},
   "outputs": [
    {
     "name": "stdout",
     "output_type": "stream",
     "text": [
      "Model: \"sequential_3\"\n",
      "_________________________________________________________________\n",
      "Layer (type)                 Output Shape              Param #   \n",
      "=================================================================\n",
      "conv2d_2 (Conv2D)            (None, 28, 28, 32)        320       \n",
      "_________________________________________________________________\n",
      "max_pooling2d_2 (MaxPooling2 (None, 14, 14, 32)        0         \n",
      "_________________________________________________________________\n",
      "conv2d_3 (Conv2D)            (None, 14, 14, 64)        18496     \n",
      "_________________________________________________________________\n",
      "max_pooling2d_3 (MaxPooling2 (None, 7, 7, 64)          0         \n",
      "_________________________________________________________________\n",
      "flatten_2 (Flatten)          (None, 3136)              0         \n",
      "_________________________________________________________________\n",
      "dense_5 (Dense)              (None, 128)               401536    \n",
      "_________________________________________________________________\n",
      "dense_6 (Dense)              (None, 10)                1290      \n",
      "=================================================================\n",
      "Total params: 421,642\n",
      "Trainable params: 421,642\n",
      "Non-trainable params: 0\n",
      "_________________________________________________________________\n",
      "None\n"
     ]
    }
   ],
   "source": [
    "model = keras.Sequential([\n",
    "    Conv2D(32,(3,3),padding='same',activation='relu',input_shape=(28,28,1)),\n",
    "    MaxPooling2D((2,2),strides=2),\n",
    "    Conv2D(64,(3,3),padding='same',activation='relu',input_shape=(28,28,1)),\n",
    "    MaxPooling2D((2,2),strides=2),\n",
    "    Flatten(),\n",
    "    Dense(128,activation='relu'),\n",
    "    Dense(10,activation='softmax')]\n",
    ")\n",
    "print(model.summary())"
   ]
  },
  {
   "cell_type": "code",
   "execution_count": null,
   "metadata": {},
   "outputs": [],
   "source": []
  }
 ],
 "metadata": {
  "kernelspec": {
   "display_name": "Python 3",
   "language": "python",
   "name": "python3"
  },
  "language_info": {
   "codemirror_mode": {
    "name": "ipython",
    "version": 3
   },
   "file_extension": ".py",
   "mimetype": "text/x-python",
   "name": "python",
   "nbconvert_exporter": "python",
   "pygments_lexer": "ipython3",
   "version": "3.8.5"
  }
 },
 "nbformat": 4,
 "nbformat_minor": 4
}
